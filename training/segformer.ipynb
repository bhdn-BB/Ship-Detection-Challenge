{
 "metadata": {
  "kernelspec": {
   "language": "python",
   "display_name": "Python 3",
   "name": "python3"
  },
  "language_info": {
   "name": "python",
   "version": "3.11.13",
   "mimetype": "text/x-python",
   "codemirror_mode": {
    "name": "ipython",
    "version": 3
   },
   "pygments_lexer": "ipython3",
   "nbconvert_exporter": "python",
   "file_extension": ".py"
  },
  "kaggle": {
   "accelerator": "nvidiaTeslaT4",
   "dataSources": [
    {
     "sourceId": 9988,
     "databundleVersionId": 868324,
     "sourceType": "competition"
    }
   ],
   "dockerImageVersionId": 31090,
   "isInternetEnabled": true,
   "language": "python",
   "sourceType": "notebook",
   "isGpuEnabled": true
  }
 },
 "nbformat_minor": 4,
 "nbformat": 4,
 "cells": [
  {
   "cell_type": "code",
   "source": [
    "!pip install segmentation-models-pytorch\n",
    "\n",
    "import pandas as pd\n",
    "from global_config import *\n",
    "from dataset.ship_dataset import ShipDataset\n",
    "from models.segformer import Segformer\n",
    "from processing.augmentation import train_transform, val_transform"
   ],
   "metadata": {
    "_uuid": "8f2839f25d086af736a60e9eeb907d3b93b6e0e5",
    "_cell_guid": "b1076dfc-b9ad-4769-8c92-a6c4dae69d19",
    "trusted": true,
    "execution": {
     "iopub.status.busy": "2025-08-23T14:37:20.535590Z",
     "iopub.execute_input": "2025-08-23T14:37:20.536064Z",
     "iopub.status.idle": "2025-08-23T14:39:04.644150Z",
     "shell.execute_reply.started": "2025-08-23T14:37:20.536044Z",
     "shell.execute_reply": "2025-08-23T14:39:04.643447Z"
    }
   },
   "outputs": [],
   "execution_count": null
  },
  {
   "cell_type": "code",
   "source": [
    "torch.cuda.empty_cache()\n",
    "torch.backends.cudnn.benchmark = True"
   ],
   "metadata": {
    "trusted": true,
    "execution": {
     "iopub.status.busy": "2025-08-23T14:39:47.948841Z",
     "iopub.execute_input": "2025-08-23T14:39:47.949346Z",
     "iopub.status.idle": "2025-08-23T14:39:48.047645Z",
     "shell.execute_reply.started": "2025-08-23T14:39:47.949312Z",
     "shell.execute_reply": "2025-08-23T14:39:48.046812Z"
    }
   },
   "outputs": [],
   "execution_count": null
  },
  {
   "cell_type": "code",
   "source": "df = pd.read_csv(TRAIN_LABEL_PATH)\nCOEF_DIF = int(len(df)* 0.3)\ndf.shape, COEF_DIF",
   "metadata": {
    "trusted": true,
    "execution": {
     "iopub.status.busy": "2025-08-23T14:39:48.738574Z",
     "iopub.execute_input": "2025-08-23T14:39:48.739229Z",
     "iopub.status.idle": "2025-08-23T14:39:49.969619Z",
     "shell.execute_reply.started": "2025-08-23T14:39:48.739180Z",
     "shell.execute_reply": "2025-08-23T14:39:49.968810Z"
    }
   },
   "outputs": [],
   "execution_count": null
  },
  {
   "cell_type": "code",
   "source": "\ndf = pd.read_csv(TRAIN_LABEL_PATH, nrows=COEF_DIF)\n\nnum_nan_sample = min([int(len(df) * 0.3)])\nnan_samples = df[df[\"EncodedPixels\"].isna()]\ndrop_subset = nan_samples.sample(n=num_nan_sample, random_state=42)\ndf = df.drop(drop_subset.index)\ndf = df.groupby(\"ImageId\")[\"EncodedPixels\"].apply(list).reset_index()\n\ndf",
   "metadata": {
    "trusted": true,
    "execution": {
     "iopub.status.busy": "2025-08-23T14:39:50.951628Z",
     "iopub.execute_input": "2025-08-23T14:39:50.951897Z",
     "iopub.status.idle": "2025-08-23T14:39:51.724304Z",
     "shell.execute_reply.started": "2025-08-23T14:39:50.951877Z",
     "shell.execute_reply": "2025-08-23T14:39:51.723489Z"
    }
   },
   "outputs": [],
   "execution_count": null
  },
  {
   "cell_type": "code",
   "source": "from sklearn.model_selection import train_test_split\ntrain_df, val_df = train_test_split(df, test_size=0.2, random_state=42)\ntrain_dataset = ShipDataset(train_df, TRAIN_SAMPLE_DIR, train_transform)\nval_dataset = ShipDataset(val_df, TRAIN_SAMPLE_DIR, val_transform)",
   "metadata": {
    "trusted": true,
    "execution": {
     "iopub.status.busy": "2025-08-23T14:48:51.049868Z",
     "iopub.execute_input": "2025-08-23T14:48:51.050500Z",
     "iopub.status.idle": "2025-08-23T14:48:51.062229Z",
     "shell.execute_reply.started": "2025-08-23T14:48:51.050472Z",
     "shell.execute_reply": "2025-08-23T14:48:51.061553Z"
    }
   },
   "outputs": [],
   "execution_count": null
  },
  {
   "cell_type": "code",
   "source": "model = Segformer()\nmodel.train(train_dataset, val_dataset)",
   "metadata": {
    "trusted": true,
    "execution": {
     "iopub.status.busy": "2025-08-23T15:09:48.685713Z",
     "iopub.execute_input": "2025-08-23T15:09:48.686006Z",
     "iopub.status.idle": "2025-08-23T15:09:54.681068Z",
     "shell.execute_reply.started": "2025-08-23T15:09:48.685984Z",
     "shell.execute_reply": "2025-08-23T15:09:54.680007Z"
    }
   },
   "outputs": [],
   "execution_count": null
  },
  {
   "cell_type": "code",
   "source": "",
   "metadata": {
    "trusted": true
   },
   "outputs": [],
   "execution_count": null
  }
 ]
}
