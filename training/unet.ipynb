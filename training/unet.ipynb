{
 "metadata": {
  "kernelspec": {
   "language": "python",
   "display_name": "Python 3",
   "name": "python3"
  },
  "language_info": {
   "name": "python",
   "version": "3.11.13",
   "mimetype": "text/x-python",
   "codemirror_mode": {
    "name": "ipython",
    "version": 3
   },
   "pygments_lexer": "ipython3",
   "nbconvert_exporter": "python",
   "file_extension": ".py"
  },
  "kaggle": {
   "accelerator": "nvidiaTeslaT4",
   "dataSources": [
    {
     "sourceId": 9988,
     "databundleVersionId": 868324,
     "sourceType": "competition"
    }
   ],
   "dockerImageVersionId": 31089,
   "isInternetEnabled": true,
   "language": "python",
   "sourceType": "notebook",
   "isGpuEnabled": true
  }
 },
 "nbformat_minor": 4,
 "nbformat": 4,
 "cells": [
  {
   "cell_type": "code",
   "source": [
    "!pip install segmentation-models-pytorch\n",
    "\n",
    "import pandas as pd\n",
    "from torch.utils.data import DataLoader\n",
    "import segmentation_models_pytorch as smp\n",
    "\n",
    "from global_config import *\n",
    "from models.configs_model.best_unet import *\n",
    "from dataset.ship_dataset import ShipDataset\n",
    "from models.unet import UNet\n",
    "from processing.augmentation import train_transform, val_transform\n"
   ],
   "metadata": {
    "_uuid": "8f2839f25d086af736a60e9eeb907d3b93b6e0e5",
    "_cell_guid": "b1076dfc-b9ad-4769-8c92-a6c4dae69d19",
    "trusted": true,
    "execution": {
     "iopub.status.busy": "2025-08-23T08:15:36.155644Z",
     "iopub.execute_input": "2025-08-23T08:15:36.156138Z",
     "iopub.status.idle": "2025-08-23T08:16:55.197472Z",
     "shell.execute_reply.started": "2025-08-23T08:15:36.156116Z",
     "shell.execute_reply": "2025-08-23T08:16:55.196885Z"
    }
   },
   "outputs": [],
   "execution_count": null
  },
  {
   "cell_type": "code",
   "source": [
    "torch.cuda.empty_cache()\n",
    "torch.backends.cudnn.benchmark = True"
   ],
   "metadata": {
    "trusted": true,
    "execution": {
     "iopub.status.busy": "2025-08-23T08:17:02.477225Z",
     "iopub.execute_input": "2025-08-23T08:17:02.478003Z",
     "iopub.status.idle": "2025-08-23T08:17:02.566001Z",
     "shell.execute_reply.started": "2025-08-23T08:17:02.477952Z",
     "shell.execute_reply": "2025-08-23T08:17:02.565115Z"
    }
   },
   "outputs": [],
   "execution_count": null
  },
  {
   "cell_type": "code",
   "source": "df = pd.read_csv(TRAIN_LABEL_PATH)\nCOEF_DIF = int(len(df)* 0.15)\ndf.shape, COEF_DIF",
   "metadata": {
    "trusted": true,
    "execution": {
     "iopub.status.busy": "2025-08-23T08:17:56.587729Z",
     "iopub.execute_input": "2025-08-23T08:17:56.588038Z",
     "iopub.status.idle": "2025-08-23T08:17:57.134530Z",
     "shell.execute_reply.started": "2025-08-23T08:17:56.588013Z",
     "shell.execute_reply": "2025-08-23T08:17:57.133920Z"
    }
   },
   "outputs": [],
   "execution_count": null
  },
  {
   "cell_type": "code",
   "source": "\ndf = pd.read_csv(TRAIN_LABEL_PATH, nrows=COEF_DIF)\n\nnum_nan_sample = min([int(len(df) * 0.3)])\nnan_samples = df[df[\"EncodedPixels\"].isna()]\ndrop_subset = nan_samples.sample(n=num_nan_sample, random_state=42)\ndf = df.drop(drop_subset.index)\ndf = df.groupby(\"ImageId\")[\"EncodedPixels\"].apply(list).reset_index()\n\ndf",
   "metadata": {
    "trusted": true,
    "execution": {
     "iopub.status.busy": "2025-08-23T08:18:00.456937Z",
     "iopub.execute_input": "2025-08-23T08:18:00.457235Z",
     "iopub.status.idle": "2025-08-23T08:18:01.034134Z",
     "shell.execute_reply.started": "2025-08-23T08:18:00.457217Z",
     "shell.execute_reply": "2025-08-23T08:18:01.033333Z"
    }
   },
   "outputs": [],
   "execution_count": null
  },
  {
   "cell_type": "code",
   "source": "from sklearn.model_selection import train_test_split\ntrain_df, val_df = train_test_split(df, test_size=0.2, random_state=42)\n\ntrain_df",
   "metadata": {
    "trusted": true,
    "execution": {
     "iopub.status.busy": "2025-08-23T08:18:13.500578Z",
     "iopub.execute_input": "2025-08-23T08:18:13.501307Z",
     "iopub.status.idle": "2025-08-23T08:18:13.898091Z",
     "shell.execute_reply.started": "2025-08-23T08:18:13.501279Z",
     "shell.execute_reply": "2025-08-23T08:18:13.897464Z"
    }
   },
   "outputs": [],
   "execution_count": null
  },
  {
   "cell_type": "code",
   "source": "train_dataset = ShipDataset(train_df, TRAIN_SAMPLE_DIR, train_transform)\nvalid_dataset = ShipDataset(val_df, TRAIN_SAMPLE_DIR, val_transform)\ntrain_loader = DataLoader(train_dataset, batch_size=BATCH_SIZE, shuffle=True)\nvalid_loader = DataLoader(valid_dataset, batch_size=BATCH_SIZE, shuffle=False)",
   "metadata": {
    "trusted": true,
    "execution": {
     "iopub.status.busy": "2025-08-23T08:18:15.334757Z",
     "iopub.execute_input": "2025-08-23T08:18:15.335251Z",
     "iopub.status.idle": "2025-08-23T08:18:15.339783Z",
     "shell.execute_reply.started": "2025-08-23T08:18:15.335231Z",
     "shell.execute_reply": "2025-08-23T08:18:15.339129Z"
    }
   },
   "outputs": [],
   "execution_count": null
  },
  {
   "cell_type": "code",
   "source": [
    "from torch.optim import Adam\n",
    "\n",
    "\n",
    "model = smp.Unet(\n",
    "    encoder_name=ENCODER,\n",
    "    encoder_weights=WEIGHT,\n",
    "    classes=CLASSES,\n",
    "    activation=activation,\n",
    "    encoder_depth=ENCODER_DEPTH,\n",
    "    # encoder_channel=ENCODER_CHANNELS,\n",
    ").to(DEVICE)\n",
    "\n",
    "optimizer = Adam(model.parameters(), lr=LR)\n",
    "\n",
    "trainer = UNet(\n",
    "    model=model,\n",
    "    train_loader=train_loader,\n",
    "    valid_loader=valid_loader,\n",
    "    optimizer=optimizer,\n",
    "    epochs=EPOCHS,\n",
    "    device=DEVICE\n",
    ")\n",
    "trainer.train(save_path=OUTPUT_UNET)"
   ],
   "metadata": {
    "trusted": true,
    "execution": {
     "iopub.status.busy": "2025-08-23T08:18:17.272213Z",
     "iopub.execute_input": "2025-08-23T08:18:17.272478Z",
     "iopub.status.idle": "2025-08-23T13:39:08.225541Z",
     "shell.execute_reply.started": "2025-08-23T08:18:17.272459Z",
     "shell.execute_reply": "2025-08-23T13:39:08.224829Z"
    }
   },
   "outputs": [],
   "execution_count": null
  },
  {
   "cell_type": "code",
   "source": "trainer.plot_metrics()",
   "metadata": {
    "trusted": true,
    "execution": {
     "iopub.status.busy": "2025-08-23T13:39:20.577282Z",
     "iopub.execute_input": "2025-08-23T13:39:20.577571Z",
     "iopub.status.idle": "2025-08-23T13:39:21.053095Z",
     "shell.execute_reply.started": "2025-08-23T13:39:20.577552Z",
     "shell.execute_reply": "2025-08-23T13:39:21.052436Z"
    }
   },
   "outputs": [],
   "execution_count": null
  },
  {
   "metadata": {},
   "cell_type": "code",
   "outputs": [],
   "execution_count": null,
   "source": ""
  }
 ]
}
